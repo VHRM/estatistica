{
  "cells": [
    {
      "cell_type": "code",
      "execution_count": null,
      "metadata": {},
      "outputs": [],
      "source": [
        "%pip install -r requirements.txt"
      ]
    },
    {
      "cell_type": "code",
      "execution_count": 6,
      "metadata": {
        "id": "maE6zdlE347s"
      },
      "outputs": [],
      "source": [
        "import pandas as pd\n",
        "%matplotlib inline\n",
        "import matplotlib.pyplot as plt\n",
        "import seaborn as sns; sns.set()\n",
        "from sklearn.metrics import confusion_matrix\n",
        "from sklearn.metrics import classification_report\n",
        "from sklearn.metrics import accuracy_score\n",
        "df = pd.read_csv(\"./data.csv\",delimiter=\";\")\n",
        "df = df.dropna(axis = 0)\n",
        "\n",
        "\n",
        "\n"
      ]
    },
    {
      "cell_type": "code",
      "execution_count": 9,
      "metadata": {
        "id": "tLfAkZrvrnZN"
      },
      "outputs": [
        {
          "name": "stdout",
          "output_type": "stream",
          "text": [
            "Collecting dataprep\n",
            "  Using cached dataprep-0.4.1-py3-none-any.whl (3.5 MB)\n",
            "Collecting aiohttp<4.0,>=3.6 (from dataprep)\n",
            "  Obtaining dependency information for aiohttp<4.0,>=3.6 from https://files.pythonhosted.org/packages/4c/b8/5c5efbb1d3cb1da3612b8e309e8e31b602ee9c5cca8e41961db385fc9d00/aiohttp-3.8.5-cp311-cp311-manylinux_2_17_x86_64.manylinux2014_x86_64.whl.metadata\n",
            "  Using cached aiohttp-3.8.5-cp311-cp311-manylinux_2_17_x86_64.manylinux2014_x86_64.whl.metadata (7.7 kB)\n",
            "Collecting bokeh<3,>=2 (from dataprep)\n",
            "  Using cached bokeh-2.4.3-py3-none-any.whl (18.5 MB)\n",
            "Collecting bottleneck<2.0,>=1.3 (from dataprep)\n",
            "  Using cached Bottleneck-1.3.7-cp311-cp311-manylinux_2_5_x86_64.manylinux1_x86_64.manylinux_2_17_x86_64.manylinux2014_x86_64.whl (358 kB)\n",
            "Collecting dask[array,dataframe,delayed]<3.0,>=2.25 (from dataprep)\n",
            "  Using cached dask-2.30.0-py3-none-any.whl (848 kB)\n",
            "Collecting flask<2.0.0,>=1.1.4 (from dataprep)\n",
            "  Using cached Flask-1.1.4-py2.py3-none-any.whl (94 kB)\n",
            "Collecting flask_cors<4.0.0,>=3.0.10 (from dataprep)\n",
            "  Using cached Flask_Cors-3.0.10-py2.py3-none-any.whl (14 kB)\n",
            "Collecting ipywidgets<8.0,>=7.5 (from dataprep)\n",
            "  Obtaining dependency information for ipywidgets<8.0,>=7.5 from https://files.pythonhosted.org/packages/dc/0f/efa0531c38e7651d7b229e4746ed83ddd286d0ad80a316b175a4b14e8c1c/ipywidgets-7.8.0-py2.py3-none-any.whl.metadata\n",
            "  Using cached ipywidgets-7.8.0-py2.py3-none-any.whl.metadata (1.9 kB)\n",
            "Collecting jinja2<3.0,>=2.11 (from dataprep)\n",
            "  Using cached Jinja2-2.11.3-py2.py3-none-any.whl (125 kB)\n",
            "Collecting jsonpath-ng<2.0,>=1.5 (from dataprep)\n",
            "  Using cached jsonpath_ng-1.5.3-py3-none-any.whl (29 kB)\n",
            "Collecting levenshtein<0.13.0,>=0.12.0 (from dataprep)\n",
            "  Using cached levenshtein-0.12.0.tar.gz (54 kB)\n",
            "  Preparing metadata (setup.py) ... \u001b[?25ldone\n",
            "\u001b[?25hCollecting metaphone<0.7,>=0.6 (from dataprep)\n",
            "  Using cached Metaphone-0.6-py3-none-any.whl\n",
            "Collecting nltk<4.0,>=3.5 (from dataprep)\n",
            "  Using cached nltk-3.8.1-py3-none-any.whl (1.5 MB)\n",
            "Requirement already satisfied: numpy<2,>=1 in /opt/conda/lib/python3.11/site-packages (from dataprep) (1.25.2)\n",
            "Collecting pandas<2.0,>=1.1 (from dataprep)\n",
            "  Using cached pandas-1.5.3-cp311-cp311-manylinux_2_17_x86_64.manylinux2014_x86_64.whl (12.0 MB)\n",
            "Collecting pydantic<2.0,>=1.6 (from dataprep)\n",
            "  Obtaining dependency information for pydantic<2.0,>=1.6 from https://files.pythonhosted.org/packages/b8/ae/8c3ffe3dafeaeb0fa08d6622e7fb074c7f42921fe8916c8de6f47662f9a4/pydantic-1.10.12-cp311-cp311-manylinux_2_17_x86_64.manylinux2014_x86_64.whl.metadata\n",
            "  Using cached pydantic-1.10.12-cp311-cp311-manylinux_2_17_x86_64.manylinux2014_x86_64.whl.metadata (149 kB)\n",
            "Collecting python-stdnum<2.0,>=1.16 (from dataprep)\n",
            "  Obtaining dependency information for python-stdnum<2.0,>=1.16 from https://files.pythonhosted.org/packages/e3/c3/6ce1809a33fb8d1a4cc5c118cc5cf423b8844ab80324ae76b7cd6bcf31b2/python_stdnum-1.19-py2.py3-none-any.whl.metadata\n",
            "  Using cached python_stdnum-1.19-py2.py3-none-any.whl.metadata (17 kB)\n",
            "Collecting regex<2021.0.0,>=2020.10.15 (from dataprep)\n",
            "  Using cached regex-2020.11.13.tar.gz (694 kB)\n",
            "  Preparing metadata (setup.py) ... \u001b[?25ldone\n",
            "\u001b[?25hRequirement already satisfied: scipy<2,>=1 in /opt/conda/lib/python3.11/site-packages (from dataprep) (1.11.2)\n",
            "Requirement already satisfied: tqdm<5.0,>=4.48 in /opt/conda/lib/python3.11/site-packages (from dataprep) (4.66.1)\n",
            "Collecting usaddress<0.6.0,>=0.5.10 (from dataprep)\n",
            "  Using cached usaddress-0.5.10-py2.py3-none-any.whl (63 kB)\n",
            "Collecting varname<0.9.0,>=0.8.1 (from dataprep)\n",
            "  Using cached varname-0.8.3-py3-none-any.whl (21 kB)\n",
            "Collecting wordcloud<2.0,>=1.8 (from dataprep)\n",
            "  Obtaining dependency information for wordcloud<2.0,>=1.8 from https://files.pythonhosted.org/packages/22/8c/18556cbe48b6d2e03d6bb1001ef79b9255c767d2927addcf090b700a1de9/wordcloud-1.9.2-cp311-cp311-manylinux_2_17_x86_64.manylinux2014_x86_64.whl.metadata\n",
            "  Using cached wordcloud-1.9.2-cp311-cp311-manylinux_2_17_x86_64.manylinux2014_x86_64.whl.metadata (3.3 kB)\n",
            "Requirement already satisfied: attrs>=17.3.0 in /opt/conda/lib/python3.11/site-packages (from aiohttp<4.0,>=3.6->dataprep) (23.1.0)\n",
            "Requirement already satisfied: charset-normalizer<4.0,>=2.0 in /opt/conda/lib/python3.11/site-packages (from aiohttp<4.0,>=3.6->dataprep) (3.2.0)\n",
            "Collecting multidict<7.0,>=4.5 (from aiohttp<4.0,>=3.6->dataprep)\n",
            "  Using cached multidict-6.0.4-cp311-cp311-manylinux_2_17_x86_64.manylinux2014_x86_64.whl (117 kB)\n",
            "Collecting async-timeout<5.0,>=4.0.0a3 (from aiohttp<4.0,>=3.6->dataprep)\n",
            "  Obtaining dependency information for async-timeout<5.0,>=4.0.0a3 from https://files.pythonhosted.org/packages/a7/fa/e01228c2938de91d47b307831c62ab9e4001e747789d0b05baf779a6488c/async_timeout-4.0.3-py3-none-any.whl.metadata\n",
            "  Using cached async_timeout-4.0.3-py3-none-any.whl.metadata (4.2 kB)\n",
            "Collecting yarl<2.0,>=1.0 (from aiohttp<4.0,>=3.6->dataprep)\n",
            "  Using cached yarl-1.9.2-cp311-cp311-manylinux_2_17_x86_64.manylinux2014_x86_64.whl (282 kB)\n",
            "Collecting frozenlist>=1.1.1 (from aiohttp<4.0,>=3.6->dataprep)\n",
            "  Obtaining dependency information for frozenlist>=1.1.1 from https://files.pythonhosted.org/packages/e6/7e/74b176a5580e1a41da326d07cf47a0032923fb3eeec9afbd92bb5c6457df/frozenlist-1.4.0-cp311-cp311-manylinux_2_5_x86_64.manylinux1_x86_64.manylinux_2_17_x86_64.manylinux2014_x86_64.whl.metadata\n",
            "  Using cached frozenlist-1.4.0-cp311-cp311-manylinux_2_5_x86_64.manylinux1_x86_64.manylinux_2_17_x86_64.manylinux2014_x86_64.whl.metadata (5.2 kB)\n",
            "Collecting aiosignal>=1.1.2 (from aiohttp<4.0,>=3.6->dataprep)\n",
            "  Using cached aiosignal-1.3.1-py3-none-any.whl (7.6 kB)\n",
            "Requirement already satisfied: packaging>=16.8 in /opt/conda/lib/python3.11/site-packages (from bokeh<3,>=2->dataprep) (23.1)\n",
            "Requirement already satisfied: pillow>=7.1.0 in /opt/conda/lib/python3.11/site-packages (from bokeh<3,>=2->dataprep) (10.0.0)\n",
            "Requirement already satisfied: PyYAML>=3.10 in /opt/conda/lib/python3.11/site-packages (from bokeh<3,>=2->dataprep) (6.0.1)\n",
            "Requirement already satisfied: tornado>=5.1 in /opt/conda/lib/python3.11/site-packages (from bokeh<3,>=2->dataprep) (6.3.3)\n",
            "Requirement already satisfied: typing-extensions>=3.10.0 in /opt/conda/lib/python3.11/site-packages (from bokeh<3,>=2->dataprep) (4.7.1)\n",
            "Requirement already satisfied: toolz>=0.8.2 in /opt/conda/lib/python3.11/site-packages (from dask[array,dataframe,delayed]<3.0,>=2.25->dataprep) (0.12.0)\n",
            "Collecting partd>=0.3.10 (from dask[array,dataframe,delayed]<3.0,>=2.25->dataprep)\n",
            "  Using cached partd-1.4.0-py3-none-any.whl (18 kB)\n",
            "Collecting fsspec>=0.6.0 (from dask[array,dataframe,delayed]<3.0,>=2.25->dataprep)\n",
            "  Obtaining dependency information for fsspec>=0.6.0 from https://files.pythonhosted.org/packages/3a/9f/b40e8e5be886143379000af5fc0c675352d59e82fd869d24bf784161dc77/fsspec-2023.9.0-py3-none-any.whl.metadata\n",
            "  Using cached fsspec-2023.9.0-py3-none-any.whl.metadata (6.7 kB)\n",
            "Collecting cloudpickle>=0.2.2 (from dask[array,dataframe,delayed]<3.0,>=2.25->dataprep)\n",
            "  Using cached cloudpickle-2.2.1-py3-none-any.whl (25 kB)\n",
            "Collecting Werkzeug<2.0,>=0.15 (from flask<2.0.0,>=1.1.4->dataprep)\n",
            "  Using cached Werkzeug-1.0.1-py2.py3-none-any.whl (298 kB)\n",
            "Collecting itsdangerous<2.0,>=0.24 (from flask<2.0.0,>=1.1.4->dataprep)\n",
            "  Using cached itsdangerous-1.1.0-py2.py3-none-any.whl (16 kB)\n",
            "Collecting click<8.0,>=5.1 (from flask<2.0.0,>=1.1.4->dataprep)\n",
            "  Using cached click-7.1.2-py2.py3-none-any.whl (82 kB)\n",
            "Requirement already satisfied: Six in /opt/conda/lib/python3.11/site-packages (from flask_cors<4.0.0,>=3.0.10->dataprep) (1.16.0)\n",
            "Requirement already satisfied: comm>=0.1.3 in /opt/conda/lib/python3.11/site-packages (from ipywidgets<8.0,>=7.5->dataprep) (0.1.4)\n",
            "Requirement already satisfied: ipython-genutils~=0.2.0 in /opt/conda/lib/python3.11/site-packages (from ipywidgets<8.0,>=7.5->dataprep) (0.2.0)\n",
            "Requirement already satisfied: traitlets>=4.3.1 in /opt/conda/lib/python3.11/site-packages (from ipywidgets<8.0,>=7.5->dataprep) (5.9.0)\n",
            "Collecting widgetsnbextension~=3.6.5 (from ipywidgets<8.0,>=7.5->dataprep)\n",
            "  Obtaining dependency information for widgetsnbextension~=3.6.5 from https://files.pythonhosted.org/packages/bf/41/3fc8ddbb62a6b29438b9f435a84eff80bc62e9003b098d38a445b51d88e6/widgetsnbextension-3.6.5-py2.py3-none-any.whl.metadata\n",
            "  Using cached widgetsnbextension-3.6.5-py2.py3-none-any.whl.metadata (1.3 kB)\n",
            "Requirement already satisfied: ipython>=4.0.0 in /opt/conda/lib/python3.11/site-packages (from ipywidgets<8.0,>=7.5->dataprep) (8.15.0)\n",
            "Collecting jupyterlab-widgets<3,>=1.0.0 (from ipywidgets<8.0,>=7.5->dataprep)\n",
            "  Obtaining dependency information for jupyterlab-widgets<3,>=1.0.0 from https://files.pythonhosted.org/packages/65/10/dfe39b23de3625e2afb293b3f1dbc8edae2d42459ceeea7f3142ccad6543/jupyterlab_widgets-1.1.5-py3-none-any.whl.metadata\n",
            "  Using cached jupyterlab_widgets-1.1.5-py3-none-any.whl.metadata (3.7 kB)\n",
            "Requirement already satisfied: MarkupSafe>=0.23 in /opt/conda/lib/python3.11/site-packages (from jinja2<3.0,>=2.11->dataprep) (2.1.3)\n",
            "Collecting ply (from jsonpath-ng<2.0,>=1.5->dataprep)\n",
            "  Using cached ply-3.11-py2.py3-none-any.whl (49 kB)\n",
            "Requirement already satisfied: decorator in /opt/conda/lib/python3.11/site-packages (from jsonpath-ng<2.0,>=1.5->dataprep) (5.1.1)\n",
            "Requirement already satisfied: setuptools in /opt/conda/lib/python3.11/site-packages (from levenshtein<0.13.0,>=0.12.0->dataprep) (68.1.2)\n",
            "Requirement already satisfied: joblib in /opt/conda/lib/python3.11/site-packages (from nltk<4.0,>=3.5->dataprep) (1.3.2)\n",
            "INFO: pip is looking at multiple versions of nltk to determine which version is compatible with other requirements. This could take a while.\n",
            "Collecting nltk<4.0,>=3.5 (from dataprep)\n",
            "  Using cached nltk-3.8-py3-none-any.whl (1.5 MB)\n",
            "  Using cached nltk-3.7-py3-none-any.whl (1.5 MB)\n",
            "  Using cached nltk-3.6.7-py3-none-any.whl (1.5 MB)\n",
            "  Using cached nltk-3.6.6-py3-none-any.whl (1.5 MB)\n",
            "  Using cached nltk-3.6.5-py3-none-any.whl (1.5 MB)\n",
            "  Using cached nltk-3.6.3-py3-none-any.whl (1.5 MB)\n",
            "Requirement already satisfied: python-dateutil>=2.8.1 in /opt/conda/lib/python3.11/site-packages (from pandas<2.0,>=1.1->dataprep) (2.8.2)\n",
            "Requirement already satisfied: pytz>=2020.1 in /opt/conda/lib/python3.11/site-packages (from pandas<2.0,>=1.1->dataprep) (2023.3)\n",
            "Collecting future>=0.14 (from usaddress<0.6.0,>=0.5.10->dataprep)\n",
            "  Using cached future-0.18.3-py3-none-any.whl\n",
            "Collecting probableparsing (from usaddress<0.6.0,>=0.5.10->dataprep)\n",
            "  Using cached probableparsing-0.0.1-py2.py3-none-any.whl (3.1 kB)\n",
            "Collecting python-crfsuite>=0.7 (from usaddress<0.6.0,>=0.5.10->dataprep)\n",
            "  Using cached python_crfsuite-0.9.9-cp311-cp311-manylinux_2_17_x86_64.manylinux2014_x86_64.whl (1.0 MB)\n",
            "Requirement already satisfied: asttokens<3.0.0,>=2.0.0 in /opt/conda/lib/python3.11/site-packages (from varname<0.9.0,>=0.8.1->dataprep) (2.2.1)\n",
            "Collecting executing<0.9.0,>=0.8.3 (from varname<0.9.0,>=0.8.1->dataprep)\n",
            "  Using cached executing-0.8.3-py2.py3-none-any.whl (16 kB)\n",
            "Requirement already satisfied: pure_eval<1.0.0 in /opt/conda/lib/python3.11/site-packages (from varname<0.9.0,>=0.8.1->dataprep) (0.2.2)\n",
            "Requirement already satisfied: matplotlib in /opt/conda/lib/python3.11/site-packages (from wordcloud<2.0,>=1.8->dataprep) (3.7.2)\n",
            "Requirement already satisfied: backcall in /opt/conda/lib/python3.11/site-packages (from ipython>=4.0.0->ipywidgets<8.0,>=7.5->dataprep) (0.2.0)\n",
            "Requirement already satisfied: jedi>=0.16 in /opt/conda/lib/python3.11/site-packages (from ipython>=4.0.0->ipywidgets<8.0,>=7.5->dataprep) (0.19.0)\n",
            "Requirement already satisfied: matplotlib-inline in /opt/conda/lib/python3.11/site-packages (from ipython>=4.0.0->ipywidgets<8.0,>=7.5->dataprep) (0.1.6)\n",
            "Requirement already satisfied: pickleshare in /opt/conda/lib/python3.11/site-packages (from ipython>=4.0.0->ipywidgets<8.0,>=7.5->dataprep) (0.7.5)\n",
            "Requirement already satisfied: prompt-toolkit!=3.0.37,<3.1.0,>=3.0.30 in /opt/conda/lib/python3.11/site-packages (from ipython>=4.0.0->ipywidgets<8.0,>=7.5->dataprep) (3.0.39)\n",
            "Requirement already satisfied: pygments>=2.4.0 in /opt/conda/lib/python3.11/site-packages (from ipython>=4.0.0->ipywidgets<8.0,>=7.5->dataprep) (2.16.1)\n",
            "Requirement already satisfied: stack-data in /opt/conda/lib/python3.11/site-packages (from ipython>=4.0.0->ipywidgets<8.0,>=7.5->dataprep) (0.6.2)\n",
            "Requirement already satisfied: pexpect>4.3 in /opt/conda/lib/python3.11/site-packages (from ipython>=4.0.0->ipywidgets<8.0,>=7.5->dataprep) (4.8.0)\n",
            "Collecting locket (from partd>=0.3.10->dask[array,dataframe,delayed]<3.0,>=2.25->dataprep)\n",
            "  Using cached locket-1.0.0-py2.py3-none-any.whl (4.4 kB)\n",
            "Requirement already satisfied: notebook>=4.4.1 in /opt/conda/lib/python3.11/site-packages (from widgetsnbextension~=3.6.5->ipywidgets<8.0,>=7.5->dataprep) (7.0.3)\n",
            "Requirement already satisfied: idna>=2.0 in /opt/conda/lib/python3.11/site-packages (from yarl<2.0,>=1.0->aiohttp<4.0,>=3.6->dataprep) (3.4)\n",
            "Requirement already satisfied: contourpy>=1.0.1 in /opt/conda/lib/python3.11/site-packages (from matplotlib->wordcloud<2.0,>=1.8->dataprep) (1.1.0)\n",
            "Requirement already satisfied: cycler>=0.10 in /opt/conda/lib/python3.11/site-packages (from matplotlib->wordcloud<2.0,>=1.8->dataprep) (0.11.0)\n",
            "Requirement already satisfied: fonttools>=4.22.0 in /opt/conda/lib/python3.11/site-packages (from matplotlib->wordcloud<2.0,>=1.8->dataprep) (4.42.1)\n",
            "Requirement already satisfied: kiwisolver>=1.0.1 in /opt/conda/lib/python3.11/site-packages (from matplotlib->wordcloud<2.0,>=1.8->dataprep) (1.4.5)\n",
            "Requirement already satisfied: pyparsing<3.1,>=2.3.1 in /opt/conda/lib/python3.11/site-packages (from matplotlib->wordcloud<2.0,>=1.8->dataprep) (3.0.9)\n",
            "Requirement already satisfied: parso<0.9.0,>=0.8.3 in /opt/conda/lib/python3.11/site-packages (from jedi>=0.16->ipython>=4.0.0->ipywidgets<8.0,>=7.5->dataprep) (0.8.3)\n",
            "Requirement already satisfied: jupyter-server<3,>=2.4.0 in /opt/conda/lib/python3.11/site-packages (from notebook>=4.4.1->widgetsnbextension~=3.6.5->ipywidgets<8.0,>=7.5->dataprep) (2.7.3)\n",
            "Requirement already satisfied: jupyterlab-server<3,>=2.22.1 in /opt/conda/lib/python3.11/site-packages (from notebook>=4.4.1->widgetsnbextension~=3.6.5->ipywidgets<8.0,>=7.5->dataprep) (2.24.0)\n",
            "Requirement already satisfied: jupyterlab<5,>=4.0.2 in /opt/conda/lib/python3.11/site-packages (from notebook>=4.4.1->widgetsnbextension~=3.6.5->ipywidgets<8.0,>=7.5->dataprep) (4.0.5)\n",
            "Requirement already satisfied: notebook-shim<0.3,>=0.2 in /opt/conda/lib/python3.11/site-packages (from notebook>=4.4.1->widgetsnbextension~=3.6.5->ipywidgets<8.0,>=7.5->dataprep) (0.2.3)\n",
            "Requirement already satisfied: ptyprocess>=0.5 in /opt/conda/lib/python3.11/site-packages (from pexpect>4.3->ipython>=4.0.0->ipywidgets<8.0,>=7.5->dataprep) (0.7.0)\n",
            "Requirement already satisfied: wcwidth in /opt/conda/lib/python3.11/site-packages (from prompt-toolkit!=3.0.37,<3.1.0,>=3.0.30->ipython>=4.0.0->ipywidgets<8.0,>=7.5->dataprep) (0.2.6)\n",
            "INFO: pip is looking at multiple versions of stack-data to determine which version is compatible with other requirements. This could take a while.\n",
            "Collecting stack-data (from ipython>=4.0.0->ipywidgets<8.0,>=7.5->dataprep)\n",
            "  Using cached stack_data-0.6.1-py3-none-any.whl (24 kB)\n",
            "  Using cached stack_data-0.6.0-py3-none-any.whl (24 kB)\n",
            "  Using cached stack_data-0.5.1-py3-none-any.whl (24 kB)\n",
            "Requirement already satisfied: anyio>=3.1.0 in /opt/conda/lib/python3.11/site-packages (from jupyter-server<3,>=2.4.0->notebook>=4.4.1->widgetsnbextension~=3.6.5->ipywidgets<8.0,>=7.5->dataprep) (4.0.0)\n",
            "Requirement already satisfied: argon2-cffi in /opt/conda/lib/python3.11/site-packages (from jupyter-server<3,>=2.4.0->notebook>=4.4.1->widgetsnbextension~=3.6.5->ipywidgets<8.0,>=7.5->dataprep) (23.1.0)\n",
            "Requirement already satisfied: jupyter-client>=7.4.4 in /opt/conda/lib/python3.11/site-packages (from jupyter-server<3,>=2.4.0->notebook>=4.4.1->widgetsnbextension~=3.6.5->ipywidgets<8.0,>=7.5->dataprep) (8.3.1)\n",
            "Requirement already satisfied: jupyter-core!=5.0.*,>=4.12 in /opt/conda/lib/python3.11/site-packages (from jupyter-server<3,>=2.4.0->notebook>=4.4.1->widgetsnbextension~=3.6.5->ipywidgets<8.0,>=7.5->dataprep) (5.3.1)\n",
            "Requirement already satisfied: jupyter-events>=0.6.0 in /opt/conda/lib/python3.11/site-packages (from jupyter-server<3,>=2.4.0->notebook>=4.4.1->widgetsnbextension~=3.6.5->ipywidgets<8.0,>=7.5->dataprep) (0.7.0)\n",
            "Requirement already satisfied: jupyter-server-terminals in /opt/conda/lib/python3.11/site-packages (from jupyter-server<3,>=2.4.0->notebook>=4.4.1->widgetsnbextension~=3.6.5->ipywidgets<8.0,>=7.5->dataprep) (0.4.4)\n",
            "Requirement already satisfied: nbconvert>=6.4.4 in /opt/conda/lib/python3.11/site-packages (from jupyter-server<3,>=2.4.0->notebook>=4.4.1->widgetsnbextension~=3.6.5->ipywidgets<8.0,>=7.5->dataprep) (7.8.0)\n",
            "Requirement already satisfied: nbformat>=5.3.0 in /opt/conda/lib/python3.11/site-packages (from jupyter-server<3,>=2.4.0->notebook>=4.4.1->widgetsnbextension~=3.6.5->ipywidgets<8.0,>=7.5->dataprep) (5.9.2)\n",
            "Requirement already satisfied: overrides in /opt/conda/lib/python3.11/site-packages (from jupyter-server<3,>=2.4.0->notebook>=4.4.1->widgetsnbextension~=3.6.5->ipywidgets<8.0,>=7.5->dataprep) (7.4.0)\n",
            "Requirement already satisfied: prometheus-client in /opt/conda/lib/python3.11/site-packages (from jupyter-server<3,>=2.4.0->notebook>=4.4.1->widgetsnbextension~=3.6.5->ipywidgets<8.0,>=7.5->dataprep) (0.17.1)\n",
            "Requirement already satisfied: pyzmq>=24 in /opt/conda/lib/python3.11/site-packages (from jupyter-server<3,>=2.4.0->notebook>=4.4.1->widgetsnbextension~=3.6.5->ipywidgets<8.0,>=7.5->dataprep) (25.1.1)\n",
            "Requirement already satisfied: send2trash>=1.8.2 in /opt/conda/lib/python3.11/site-packages (from jupyter-server<3,>=2.4.0->notebook>=4.4.1->widgetsnbextension~=3.6.5->ipywidgets<8.0,>=7.5->dataprep) (1.8.2)\n",
            "Requirement already satisfied: terminado>=0.8.3 in /opt/conda/lib/python3.11/site-packages (from jupyter-server<3,>=2.4.0->notebook>=4.4.1->widgetsnbextension~=3.6.5->ipywidgets<8.0,>=7.5->dataprep) (0.17.1)\n",
            "Requirement already satisfied: websocket-client in /opt/conda/lib/python3.11/site-packages (from jupyter-server<3,>=2.4.0->notebook>=4.4.1->widgetsnbextension~=3.6.5->ipywidgets<8.0,>=7.5->dataprep) (1.6.2)\n",
            "Requirement already satisfied: async-lru>=1.0.0 in /opt/conda/lib/python3.11/site-packages (from jupyterlab<5,>=4.0.2->notebook>=4.4.1->widgetsnbextension~=3.6.5->ipywidgets<8.0,>=7.5->dataprep) (2.0.4)\n",
            "Requirement already satisfied: ipykernel in /opt/conda/lib/python3.11/site-packages (from jupyterlab<5,>=4.0.2->notebook>=4.4.1->widgetsnbextension~=3.6.5->ipywidgets<8.0,>=7.5->dataprep) (6.25.1)\n",
            "INFO: pip is looking at multiple versions of jupyterlab to determine which version is compatible with other requirements. This could take a while.\n",
            "Collecting jupyterlab<5,>=4.0.2 (from notebook>=4.4.1->widgetsnbextension~=3.6.5->ipywidgets<8.0,>=7.5->dataprep)\n",
            "  Obtaining dependency information for jupyterlab<5,>=4.0.2 from https://files.pythonhosted.org/packages/db/1d/a4645d6385cd03aa7703a8695317b431e92460a5a9168b9fac59d2aafd60/jupyterlab-4.0.4-py3-none-any.whl.metadata\n",
            "  Using cached jupyterlab-4.0.4-py3-none-any.whl.metadata (15 kB)\n",
            "  Obtaining dependency information for jupyterlab<5,>=4.0.2 from https://files.pythonhosted.org/packages/a3/48/ccad3b49a741755367dd1e070799847f6493c64c3b3189a757ed0fc1ef27/jupyterlab-4.0.3-py3-none-any.whl.metadata\n",
            "  Using cached jupyterlab-4.0.3-py3-none-any.whl.metadata (15 kB)\n",
            "  Obtaining dependency information for jupyterlab<5,>=4.0.2 from https://files.pythonhosted.org/packages/35/a9/dbd56bc681e3ceee945f87f3faccfe6f8f92ef1dd603d38b5eaf311306ac/jupyterlab-4.0.2-py3-none-any.whl.metadata\n",
            "  Using cached jupyterlab-4.0.2-py3-none-any.whl.metadata (15 kB)\n",
            "Collecting jupyter-server<3,>=2.4.0 (from notebook>=4.4.1->widgetsnbextension~=3.6.5->ipywidgets<8.0,>=7.5->dataprep)\n",
            "  Obtaining dependency information for jupyter-server<3,>=2.4.0 from https://files.pythonhosted.org/packages/96/a2/b432812537beaf22a9dbc0d50cb62471e57ef90df42738675760fb3dce98/jupyter_server-2.7.3-py3-none-any.whl.metadata\n",
            "  Using cached jupyter_server-2.7.3-py3-none-any.whl.metadata (8.6 kB)\n",
            "INFO: pip is still looking at multiple versions of jupyterlab to determine which version is compatible with other requirements. This could take a while.\n",
            "  Obtaining dependency information for jupyter-server<3,>=2.4.0 from https://files.pythonhosted.org/packages/28/d9/4bf2ab8410cdc37f54aadb6cae497b9bc8ae16720d97b762b9bfb7834022/jupyter_server-2.7.2-py3-none-any.whl.metadata\n",
            "  Using cached jupyter_server-2.7.2-py3-none-any.whl.metadata (8.6 kB)\n",
            "  Obtaining dependency information for jupyter-server<3,>=2.4.0 from https://files.pythonhosted.org/packages/7e/32/062e218be559208d43974ca1dcdebd2b4ee13012f7a197c4d15527fb4664/jupyter_server-2.7.1-py3-none-any.whl.metadata\n",
            "  Using cached jupyter_server-2.7.1-py3-none-any.whl.metadata (8.6 kB)\n",
            "INFO: This is taking longer than usual. You might need to provide the dependency resolver with stricter constraints to reduce runtime. See https://pip.pypa.io/warnings/backtracking for guidance. If you want to abort this run, press Ctrl + C.\n",
            "  Obtaining dependency information for jupyter-server<3,>=2.4.0 from https://files.pythonhosted.org/packages/f2/8f/914785ff2a0c4e2a7e15217710d57568f6ed6a84befa83a5a8c8b22ed3c6/jupyter_server-2.7.0-py3-none-any.whl.metadata\n",
            "  Using cached jupyter_server-2.7.0-py3-none-any.whl.metadata (8.6 kB)\n",
            "  Obtaining dependency information for jupyter-server<3,>=2.4.0 from https://files.pythonhosted.org/packages/6f/04/b2e87b4ee96a2219df7666706b28c9ebffd9895fc98fe4b5c56b8b6931ce/jupyter_server-2.6.0-py3-none-any.whl.metadata\n",
            "  Using cached jupyter_server-2.6.0-py3-none-any.whl.metadata (8.5 kB)\n",
            "  Using cached jupyter_server-2.5.0-py3-none-any.whl (366 kB)\n",
            "  Using cached jupyter_server-2.4.0-py3-none-any.whl (366 kB)\n",
            "Collecting notebook>=4.4.1 (from widgetsnbextension~=3.6.5->ipywidgets<8.0,>=7.5->dataprep)\n",
            "  Obtaining dependency information for notebook>=4.4.1 from https://files.pythonhosted.org/packages/79/97/b803f9686fe25b40c8eca2d1ba440b2f878f23b87765d18fe93dd323f0b7/notebook-7.0.3-py3-none-any.whl.metadata\n",
            "  Using cached notebook-7.0.3-py3-none-any.whl.metadata (10 kB)\n",
            "  Obtaining dependency information for notebook>=4.4.1 from https://files.pythonhosted.org/packages/85/76/51777158391e1784cc5a892ff355fd0a0b0b5189aeffce9baf51f514b9a2/notebook-7.0.2-py3-none-any.whl.metadata\n",
            "  Using cached notebook-7.0.2-py3-none-any.whl.metadata (10 kB)\n",
            "  Obtaining dependency information for notebook>=4.4.1 from https://files.pythonhosted.org/packages/c6/3a/171eaf5808d22b97fc98c61f2dd484302d1f38dbe0952e536dbaa88c2320/notebook-7.0.1-py3-none-any.whl.metadata\n",
            "  Using cached notebook-7.0.1-py3-none-any.whl.metadata (10 kB)\n",
            "  Obtaining dependency information for notebook>=4.4.1 from https://files.pythonhosted.org/packages/b6/7a/9a32d2c8a2652614f66ee889f67c352fa11e1042e668de3224c4da2370db/notebook-7.0.0-py3-none-any.whl.metadata\n",
            "  Using cached notebook-7.0.0-py3-none-any.whl.metadata (10 kB)\n",
            "  Obtaining dependency information for notebook>=4.4.1 from https://files.pythonhosted.org/packages/d0/68/889706e46864e743e530e68f47c4a8b1682a1c62c761d4a57c00dc3c4626/notebook-6.5.5-py3-none-any.whl.metadata\n",
            "  Using cached notebook-6.5.5-py3-none-any.whl.metadata (2.5 kB)\n",
            "Collecting pyzmq<25,>=17 (from notebook>=4.4.1->widgetsnbextension~=3.6.5->ipywidgets<8.0,>=7.5->dataprep)\n",
            "  Using cached pyzmq-24.0.1-cp311-cp311-manylinux_2_28_x86_64.whl (1.1 MB)\n",
            "Collecting jupyter-client<8,>=5.3.4 (from notebook>=4.4.1->widgetsnbextension~=3.6.5->ipywidgets<8.0,>=7.5->dataprep)\n",
            "  Using cached jupyter_client-7.4.9-py3-none-any.whl (133 kB)\n",
            "Requirement already satisfied: nest-asyncio>=1.5 in /opt/conda/lib/python3.11/site-packages (from notebook>=4.4.1->widgetsnbextension~=3.6.5->ipywidgets<8.0,>=7.5->dataprep) (1.5.6)\n",
            "Requirement already satisfied: nbclassic>=0.4.7 in /opt/conda/lib/python3.11/site-packages (from notebook>=4.4.1->widgetsnbextension~=3.6.5->ipywidgets<8.0,>=7.5->dataprep) (1.0.0)\n",
            "Requirement already satisfied: entrypoints in /opt/conda/lib/python3.11/site-packages (from jupyter-client<8,>=5.3.4->notebook>=4.4.1->widgetsnbextension~=3.6.5->ipywidgets<8.0,>=7.5->dataprep) (0.4)\n",
            "Requirement already satisfied: platformdirs>=2.5 in /opt/conda/lib/python3.11/site-packages (from jupyter-core!=5.0.*,>=4.12->jupyter-server<3,>=2.4.0->notebook>=4.4.1->widgetsnbextension~=3.6.5->ipywidgets<8.0,>=7.5->dataprep) (3.10.0)\n",
            "Requirement already satisfied: beautifulsoup4 in /opt/conda/lib/python3.11/site-packages (from nbconvert>=6.4.4->jupyter-server<3,>=2.4.0->notebook>=4.4.1->widgetsnbextension~=3.6.5->ipywidgets<8.0,>=7.5->dataprep) (4.12.2)\n",
            "Requirement already satisfied: bleach!=5.0.0 in /opt/conda/lib/python3.11/site-packages (from nbconvert>=6.4.4->jupyter-server<3,>=2.4.0->notebook>=4.4.1->widgetsnbextension~=3.6.5->ipywidgets<8.0,>=7.5->dataprep) (6.0.0)\n",
            "Requirement already satisfied: defusedxml in /opt/conda/lib/python3.11/site-packages (from nbconvert>=6.4.4->jupyter-server<3,>=2.4.0->notebook>=4.4.1->widgetsnbextension~=3.6.5->ipywidgets<8.0,>=7.5->dataprep) (0.7.1)\n",
            "INFO: pip is looking at multiple versions of nbconvert to determine which version is compatible with other requirements. This could take a while.\n",
            "Collecting nbconvert>=5 (from notebook>=4.4.1->widgetsnbextension~=3.6.5->ipywidgets<8.0,>=7.5->dataprep)\n",
            "  Obtaining dependency information for nbconvert>=5 from https://files.pythonhosted.org/packages/80/ed/d883918ca3777f744f3373fc63d8af47b47237ca703450a451b3e885264a/nbconvert-7.7.4-py3-none-any.whl.metadata\n",
            "  Using cached nbconvert-7.7.4-py3-none-any.whl.metadata (8.0 kB)\n",
            "  Obtaining dependency information for nbconvert>=5 from https://files.pythonhosted.org/packages/51/bd/ede955c9e981abf6d0e12a7583fd0f9256eedfb461073f25045770f3e717/nbconvert-7.7.3-py3-none-any.whl.metadata\n",
            "  Using cached nbconvert-7.7.3-py3-none-any.whl.metadata (8.0 kB)\n",
            "  Obtaining dependency information for nbconvert>=5 from https://files.pythonhosted.org/packages/93/04/cc10ee418087f2a83f6862b9043291658ab81865f38cad41c74fba2306e5/nbconvert-7.7.2-py3-none-any.whl.metadata\n",
            "  Using cached nbconvert-7.7.2-py3-none-any.whl.metadata (8.0 kB)\n",
            "  Obtaining dependency information for nbconvert>=5 from https://files.pythonhosted.org/packages/2b/f3/82f51440acd133dc8bb11688312e801c115221c7ed601075c9728447f288/nbconvert-7.7.1-py3-none-any.whl.metadata\n",
            "  Using cached nbconvert-7.7.1-py3-none-any.whl.metadata (8.0 kB)\n",
            "  Obtaining dependency information for nbconvert>=5 from https://files.pythonhosted.org/packages/98/cf/a47b636a7c7754cbef3ccd63480c2ac00a1565f2657d12400350a4f0ae06/nbconvert-7.7.0-py3-none-any.whl.metadata\n",
            "  Using cached nbconvert-7.7.0-py3-none-any.whl.metadata (8.0 kB)\n",
            "  Obtaining dependency information for nbconvert>=5 from https://files.pythonhosted.org/packages/7d/65/bd0ed8fc533ad31742f2dc629523257ade468dea860d8ebb6faa1448d709/nbconvert-7.6.0-py3-none-any.whl.metadata\n",
            "  Using cached nbconvert-7.6.0-py3-none-any.whl.metadata (7.9 kB)\n",
            "  Obtaining dependency information for nbconvert>=5 from https://files.pythonhosted.org/packages/d9/8b/702359fe63516f6faa6b4f3255126fc958a80911fc73fb55bbe1053f3fa7/nbconvert-7.5.0-py3-none-any.whl.metadata\n",
            "  Using cached nbconvert-7.5.0-py3-none-any.whl.metadata (7.9 kB)\n",
            "INFO: pip is still looking at multiple versions of nbconvert to determine which version is compatible with other requirements. This could take a while.\n",
            "  Using cached nbconvert-7.4.0-py3-none-any.whl (285 kB)\n",
            "  Using cached nbconvert-7.3.1-py3-none-any.whl (284 kB)\n",
            "  Using cached nbconvert-7.3.0-py3-none-any.whl (284 kB)\n",
            "  Using cached nbconvert-7.2.10-py3-none-any.whl (275 kB)\n",
            "  Using cached nbconvert-7.2.9-py3-none-any.whl (274 kB)\n",
            "INFO: This is taking longer than usual. You might need to provide the dependency resolver with stricter constraints to reduce runtime. See https://pip.pypa.io/warnings/backtracking for guidance. If you want to abort this run, press Ctrl + C.\n",
            "  Using cached nbconvert-7.2.8-py3-none-any.whl (274 kB)\n",
            "  Using cached nbconvert-7.2.7-py3-none-any.whl (273 kB)\n",
            "  Using cached nbconvert-7.2.6-py3-none-any.whl (273 kB)\n",
            "  Using cached nbconvert-7.2.5-py3-none-any.whl (273 kB)\n",
            "  Using cached nbconvert-7.2.4-py3-none-any.whl (273 kB)\n",
            "  Using cached nbconvert-7.2.3-py3-none-any.whl (273 kB)\n",
            "  Using cached nbconvert-7.2.2-py3-none-any.whl (271 kB)\n",
            "  Using cached nbconvert-7.2.1-py3-none-any.whl (271 kB)\n",
            "  Using cached nbconvert-7.1.0-py3-none-any.whl (272 kB)\n",
            "  Using cached nbconvert-7.0.0-py3-none-any.whl (271 kB)\n",
            "  Using cached nbconvert-6.5.4-py3-none-any.whl (563 kB)\n",
            "Collecting lxml (from nbconvert>=5->notebook>=4.4.1->widgetsnbextension~=3.6.5->ipywidgets<8.0,>=7.5->dataprep)\n",
            "  Obtaining dependency information for lxml from https://files.pythonhosted.org/packages/ed/62/ffc30348ae141f69f9f23b65ba769db7ca209856c9a9b3406279e0ea24de/lxml-4.9.3-cp311-cp311-manylinux_2_28_x86_64.whl.metadata\n",
            "  Using cached lxml-4.9.3-cp311-cp311-manylinux_2_28_x86_64.whl.metadata (3.8 kB)\n",
            "Collecting nbconvert>=5 (from notebook>=4.4.1->widgetsnbextension~=3.6.5->ipywidgets<8.0,>=7.5->dataprep)\n",
            "  Using cached nbconvert-6.5.3-py3-none-any.whl (563 kB)\n",
            "  Using cached nbconvert-6.5.2-py3-none-any.whl (563 kB)\n",
            "  Using cached nbconvert-6.5.1-py3-none-any.whl (563 kB)\n",
            "  Using cached nbconvert-6.5.0-py3-none-any.whl (561 kB)\n",
            "  Using cached nbconvert-6.4.5-py3-none-any.whl (561 kB)\n",
            "Collecting mistune<2,>=0.8.1 (from nbconvert>=5->notebook>=4.4.1->widgetsnbextension~=3.6.5->ipywidgets<8.0,>=7.5->dataprep)\n",
            "  Using cached mistune-0.8.4-py2.py3-none-any.whl (16 kB)\n",
            "Requirement already satisfied: jupyterlab-pygments in /opt/conda/lib/python3.11/site-packages (from nbconvert>=5->notebook>=4.4.1->widgetsnbextension~=3.6.5->ipywidgets<8.0,>=7.5->dataprep) (0.2.2)\n",
            "Requirement already satisfied: pandocfilters>=1.4.1 in /opt/conda/lib/python3.11/site-packages (from nbconvert>=5->notebook>=4.4.1->widgetsnbextension~=3.6.5->ipywidgets<8.0,>=7.5->dataprep) (1.5.0)\n",
            "Collecting testpath (from nbconvert>=5->notebook>=4.4.1->widgetsnbextension~=3.6.5->ipywidgets<8.0,>=7.5->dataprep)\n",
            "  Using cached testpath-0.6.0-py3-none-any.whl (83 kB)\n",
            "Collecting nbclient<0.6.0,>=0.5.0 (from nbconvert>=5->notebook>=4.4.1->widgetsnbextension~=3.6.5->ipywidgets<8.0,>=7.5->dataprep)\n",
            "  Using cached nbclient-0.5.13-py3-none-any.whl (70 kB)\n",
            "Requirement already satisfied: fastjsonschema in /opt/conda/lib/python3.11/site-packages (from nbformat>=5.3.0->jupyter-server<3,>=2.4.0->notebook>=4.4.1->widgetsnbextension~=3.6.5->ipywidgets<8.0,>=7.5->dataprep) (2.18.0)\n",
            "Requirement already satisfied: jsonschema>=2.6 in /opt/conda/lib/python3.11/site-packages (from nbformat>=5.3.0->jupyter-server<3,>=2.4.0->notebook>=4.4.1->widgetsnbextension~=3.6.5->ipywidgets<8.0,>=7.5->dataprep) (4.19.0)\n",
            "Requirement already satisfied: argon2-cffi-bindings in /opt/conda/lib/python3.11/site-packages (from argon2-cffi->jupyter-server<3,>=2.4.0->notebook>=4.4.1->widgetsnbextension~=3.6.5->ipywidgets<8.0,>=7.5->dataprep) (21.2.0)\n",
            "Requirement already satisfied: debugpy>=1.6.5 in /opt/conda/lib/python3.11/site-packages (from ipykernel->jupyterlab<5,>=4.0.2->notebook>=4.4.1->widgetsnbextension~=3.6.5->ipywidgets<8.0,>=7.5->dataprep) (1.6.8)\n",
            "Requirement already satisfied: psutil in /opt/conda/lib/python3.11/site-packages (from ipykernel->jupyterlab<5,>=4.0.2->notebook>=4.4.1->widgetsnbextension~=3.6.5->ipywidgets<8.0,>=7.5->dataprep) (5.9.5)\n",
            "Requirement already satisfied: jsonschema-specifications>=2023.03.6 in /opt/conda/lib/python3.11/site-packages (from jsonschema>=2.6->nbformat>=5.3.0->jupyter-server<3,>=2.4.0->notebook>=4.4.1->widgetsnbextension~=3.6.5->ipywidgets<8.0,>=7.5->dataprep) (2023.7.1)\n",
            "Requirement already satisfied: referencing>=0.28.4 in /opt/conda/lib/python3.11/site-packages (from jsonschema>=2.6->nbformat>=5.3.0->jupyter-server<3,>=2.4.0->notebook>=4.4.1->widgetsnbextension~=3.6.5->ipywidgets<8.0,>=7.5->dataprep) (0.30.2)\n",
            "Requirement already satisfied: rpds-py>=0.7.1 in /opt/conda/lib/python3.11/site-packages (from jsonschema>=2.6->nbformat>=5.3.0->jupyter-server<3,>=2.4.0->notebook>=4.4.1->widgetsnbextension~=3.6.5->ipywidgets<8.0,>=7.5->dataprep) (0.10.0)\n",
            "Requirement already satisfied: cffi>=1.0.1 in /opt/conda/lib/python3.11/site-packages (from argon2-cffi-bindings->argon2-cffi->jupyter-server<3,>=2.4.0->notebook>=4.4.1->widgetsnbextension~=3.6.5->ipywidgets<8.0,>=7.5->dataprep) (1.15.1)\n",
            "Requirement already satisfied: soupsieve>1.2 in /opt/conda/lib/python3.11/site-packages (from beautifulsoup4->nbconvert>=6.4.4->jupyter-server<3,>=2.4.0->notebook>=4.4.1->widgetsnbextension~=3.6.5->ipywidgets<8.0,>=7.5->dataprep) (2.5)\n",
            "Requirement already satisfied: webencodings in /opt/conda/lib/python3.11/site-packages (from bleach!=5.0.0->nbconvert>=6.4.4->jupyter-server<3,>=2.4.0->notebook>=4.4.1->widgetsnbextension~=3.6.5->ipywidgets<8.0,>=7.5->dataprep) (0.5.1)\n",
            "Requirement already satisfied: sniffio>=1.1 in /opt/conda/lib/python3.11/site-packages (from anyio>=3.1.0->jupyter-server<3,>=2.4.0->notebook>=4.4.1->widgetsnbextension~=3.6.5->ipywidgets<8.0,>=7.5->dataprep) (1.3.0)\n",
            "Requirement already satisfied: pycparser in /opt/conda/lib/python3.11/site-packages (from cffi>=1.0.1->argon2-cffi-bindings->argon2-cffi->jupyter-server<3,>=2.4.0->notebook>=4.4.1->widgetsnbextension~=3.6.5->ipywidgets<8.0,>=7.5->dataprep) (2.21)\n",
            "Requirement already satisfied: python-json-logger>=2.0.4 in /opt/conda/lib/python3.11/site-packages (from jupyter-events>=0.6.0->jupyter-server<3,>=2.4.0->notebook>=4.4.1->widgetsnbextension~=3.6.5->ipywidgets<8.0,>=7.5->dataprep) (2.0.7)\n",
            "Requirement already satisfied: rfc3339-validator in /opt/conda/lib/python3.11/site-packages (from jupyter-events>=0.6.0->jupyter-server<3,>=2.4.0->notebook>=4.4.1->widgetsnbextension~=3.6.5->ipywidgets<8.0,>=7.5->dataprep) (0.1.4)\n",
            "Requirement already satisfied: rfc3986-validator>=0.1.1 in /opt/conda/lib/python3.11/site-packages (from jupyter-events>=0.6.0->jupyter-server<3,>=2.4.0->notebook>=4.4.1->widgetsnbextension~=3.6.5->ipywidgets<8.0,>=7.5->dataprep) (0.1.1)\n",
            "Requirement already satisfied: fqdn in /opt/conda/lib/python3.11/site-packages (from jsonschema>=2.6->nbformat>=5.3.0->jupyter-server<3,>=2.4.0->notebook>=4.4.1->widgetsnbextension~=3.6.5->ipywidgets<8.0,>=7.5->dataprep) (1.5.1)\n",
            "Requirement already satisfied: isoduration in /opt/conda/lib/python3.11/site-packages (from jsonschema>=2.6->nbformat>=5.3.0->jupyter-server<3,>=2.4.0->notebook>=4.4.1->widgetsnbextension~=3.6.5->ipywidgets<8.0,>=7.5->dataprep) (20.11.0)\n",
            "Requirement already satisfied: jsonpointer>1.13 in /opt/conda/lib/python3.11/site-packages (from jsonschema>=2.6->nbformat>=5.3.0->jupyter-server<3,>=2.4.0->notebook>=4.4.1->widgetsnbextension~=3.6.5->ipywidgets<8.0,>=7.5->dataprep) (2.0)\n",
            "Requirement already satisfied: uri-template in /opt/conda/lib/python3.11/site-packages (from jsonschema>=2.6->nbformat>=5.3.0->jupyter-server<3,>=2.4.0->notebook>=4.4.1->widgetsnbextension~=3.6.5->ipywidgets<8.0,>=7.5->dataprep) (1.3.0)\n",
            "Requirement already satisfied: webcolors>=1.11 in /opt/conda/lib/python3.11/site-packages (from jsonschema>=2.6->nbformat>=5.3.0->jupyter-server<3,>=2.4.0->notebook>=4.4.1->widgetsnbextension~=3.6.5->ipywidgets<8.0,>=7.5->dataprep) (1.13)\n",
            "Requirement already satisfied: arrow>=0.15.0 in /opt/conda/lib/python3.11/site-packages (from isoduration->jsonschema>=2.6->nbformat>=5.3.0->jupyter-server<3,>=2.4.0->notebook>=4.4.1->widgetsnbextension~=3.6.5->ipywidgets<8.0,>=7.5->dataprep) (1.2.3)\n",
            "Using cached aiohttp-3.8.5-cp311-cp311-manylinux_2_17_x86_64.manylinux2014_x86_64.whl (1.1 MB)\n",
            "Using cached ipywidgets-7.8.0-py2.py3-none-any.whl (124 kB)\n",
            "Using cached pydantic-1.10.12-cp311-cp311-manylinux_2_17_x86_64.manylinux2014_x86_64.whl (3.1 MB)\n",
            "Using cached python_stdnum-1.19-py2.py3-none-any.whl (1.0 MB)\n",
            "Using cached wordcloud-1.9.2-cp311-cp311-manylinux_2_17_x86_64.manylinux2014_x86_64.whl (473 kB)\n",
            "Using cached async_timeout-4.0.3-py3-none-any.whl (5.7 kB)\n",
            "Using cached frozenlist-1.4.0-cp311-cp311-manylinux_2_5_x86_64.manylinux1_x86_64.manylinux_2_17_x86_64.manylinux2014_x86_64.whl (250 kB)\n",
            "Using cached fsspec-2023.9.0-py3-none-any.whl (173 kB)\n",
            "Using cached jupyterlab_widgets-1.1.5-py3-none-any.whl (246 kB)\n",
            "Using cached widgetsnbextension-3.6.5-py2.py3-none-any.whl (1.6 MB)\n",
            "Using cached notebook-6.5.5-py3-none-any.whl (529 kB)\n",
            "Building wheels for collected packages: levenshtein, regex\n",
            "  Building wheel for levenshtein (setup.py) ... \u001b[?25lerror\n",
            "  \u001b[1;31merror\u001b[0m: \u001b[1msubprocess-exited-with-error\u001b[0m\n",
            "  \n",
            "  \u001b[31m×\u001b[0m \u001b[32mpython setup.py bdist_wheel\u001b[0m did not run successfully.\n",
            "  \u001b[31m│\u001b[0m exit code: \u001b[1;36m1\u001b[0m\n",
            "  \u001b[31m╰─>\u001b[0m \u001b[31m[31 lines of output]\u001b[0m\n",
            "  \u001b[31m   \u001b[0m running bdist_wheel\n",
            "  \u001b[31m   \u001b[0m running build\n",
            "  \u001b[31m   \u001b[0m running build_py\n",
            "  \u001b[31m   \u001b[0m creating build\n",
            "  \u001b[31m   \u001b[0m creating build/lib.linux-x86_64-cpython-311\n",
            "  \u001b[31m   \u001b[0m creating build/lib.linux-x86_64-cpython-311/Levenshtein\n",
            "  \u001b[31m   \u001b[0m copying Levenshtein/__init__.py -> build/lib.linux-x86_64-cpython-311/Levenshtein\n",
            "  \u001b[31m   \u001b[0m copying Levenshtein/StringMatcher.py -> build/lib.linux-x86_64-cpython-311/Levenshtein\n",
            "  \u001b[31m   \u001b[0m running egg_info\n",
            "  \u001b[31m   \u001b[0m writing levenshtein.egg-info/PKG-INFO\n",
            "  \u001b[31m   \u001b[0m writing dependency_links to levenshtein.egg-info/dependency_links.txt\n",
            "  \u001b[31m   \u001b[0m deleting levenshtein.egg-info/entry_points.txt\n",
            "  \u001b[31m   \u001b[0m writing namespace_packages to levenshtein.egg-info/namespace_packages.txt\n",
            "  \u001b[31m   \u001b[0m writing requirements to levenshtein.egg-info/requires.txt\n",
            "  \u001b[31m   \u001b[0m writing top-level names to levenshtein.egg-info/top_level.txt\n",
            "  \u001b[31m   \u001b[0m reading manifest file 'levenshtein.egg-info/SOURCES.txt'\n",
            "  \u001b[31m   \u001b[0m reading manifest template 'MANIFEST.in'\n",
            "  \u001b[31m   \u001b[0m warning: no previously-included files matching '*pyc' found anywhere in distribution\n",
            "  \u001b[31m   \u001b[0m warning: no previously-included files matching '*so' found anywhere in distribution\n",
            "  \u001b[31m   \u001b[0m warning: no previously-included files matching '.project' found anywhere in distribution\n",
            "  \u001b[31m   \u001b[0m warning: no previously-included files matching '.pydevproject' found anywhere in distribution\n",
            "  \u001b[31m   \u001b[0m adding license file 'COPYING'\n",
            "  \u001b[31m   \u001b[0m writing manifest file 'levenshtein.egg-info/SOURCES.txt'\n",
            "  \u001b[31m   \u001b[0m copying Levenshtein/_levenshtein.c -> build/lib.linux-x86_64-cpython-311/Levenshtein\n",
            "  \u001b[31m   \u001b[0m copying Levenshtein/_levenshtein.h -> build/lib.linux-x86_64-cpython-311/Levenshtein\n",
            "  \u001b[31m   \u001b[0m running build_ext\n",
            "  \u001b[31m   \u001b[0m building 'Levenshtein._levenshtein' extension\n",
            "  \u001b[31m   \u001b[0m creating build/temp.linux-x86_64-cpython-311\n",
            "  \u001b[31m   \u001b[0m creating build/temp.linux-x86_64-cpython-311/Levenshtein\n",
            "  \u001b[31m   \u001b[0m gcc -pthread -B /opt/conda/compiler_compat -DNDEBUG -fwrapv -O2 -Wall -fPIC -O2 -isystem /opt/conda/include -fPIC -O2 -isystem /opt/conda/include -fPIC -I/opt/conda/include/python3.11 -c Levenshtein/_levenshtein.c -o build/temp.linux-x86_64-cpython-311/Levenshtein/_levenshtein.o\n",
            "  \u001b[31m   \u001b[0m error: command 'gcc' failed: No such file or directory\n",
            "  \u001b[31m   \u001b[0m \u001b[31m[end of output]\u001b[0m\n",
            "  \n",
            "  \u001b[1;35mnote\u001b[0m: This error originates from a subprocess, and is likely not a problem with pip.\n",
            "\u001b[31m  ERROR: Failed building wheel for levenshtein\u001b[0m\u001b[31m\n",
            "\u001b[0m\u001b[?25h  Running setup.py clean for levenshtein\n",
            "  Building wheel for regex (setup.py) ... \u001b[?25lerror\n",
            "  \u001b[1;31merror\u001b[0m: \u001b[1msubprocess-exited-with-error\u001b[0m\n",
            "  \n",
            "  \u001b[31m×\u001b[0m \u001b[32mpython setup.py bdist_wheel\u001b[0m did not run successfully.\n",
            "  \u001b[31m│\u001b[0m exit code: \u001b[1;36m1\u001b[0m\n",
            "  \u001b[31m╰─>\u001b[0m \u001b[31m[16 lines of output]\u001b[0m\n",
            "  \u001b[31m   \u001b[0m running bdist_wheel\n",
            "  \u001b[31m   \u001b[0m running build\n",
            "  \u001b[31m   \u001b[0m running build_py\n",
            "  \u001b[31m   \u001b[0m creating build\n",
            "  \u001b[31m   \u001b[0m creating build/lib.linux-x86_64-cpython-311\n",
            "  \u001b[31m   \u001b[0m creating build/lib.linux-x86_64-cpython-311/regex\n",
            "  \u001b[31m   \u001b[0m copying regex_3/__init__.py -> build/lib.linux-x86_64-cpython-311/regex\n",
            "  \u001b[31m   \u001b[0m copying regex_3/regex.py -> build/lib.linux-x86_64-cpython-311/regex\n",
            "  \u001b[31m   \u001b[0m copying regex_3/_regex_core.py -> build/lib.linux-x86_64-cpython-311/regex\n",
            "  \u001b[31m   \u001b[0m copying regex_3/test_regex.py -> build/lib.linux-x86_64-cpython-311/regex\n",
            "  \u001b[31m   \u001b[0m running build_ext\n",
            "  \u001b[31m   \u001b[0m building 'regex._regex' extension\n",
            "  \u001b[31m   \u001b[0m creating build/temp.linux-x86_64-cpython-311\n",
            "  \u001b[31m   \u001b[0m creating build/temp.linux-x86_64-cpython-311/regex_3\n",
            "  \u001b[31m   \u001b[0m gcc -pthread -B /opt/conda/compiler_compat -DNDEBUG -fwrapv -O2 -Wall -fPIC -O2 -isystem /opt/conda/include -fPIC -O2 -isystem /opt/conda/include -fPIC -I/opt/conda/include/python3.11 -c regex_3/_regex.c -o build/temp.linux-x86_64-cpython-311/regex_3/_regex.o\n",
            "  \u001b[31m   \u001b[0m error: command 'gcc' failed: No such file or directory\n",
            "  \u001b[31m   \u001b[0m \u001b[31m[end of output]\u001b[0m\n",
            "  \n",
            "  \u001b[1;35mnote\u001b[0m: This error originates from a subprocess, and is likely not a problem with pip.\n",
            "\u001b[31m  ERROR: Failed building wheel for regex\u001b[0m\u001b[31m\n",
            "\u001b[0m\u001b[?25h  Running setup.py clean for regex\n",
            "Failed to build levenshtein regex\n",
            "\u001b[31mERROR: Could not build wheels for levenshtein, regex, which is required to install pyproject.toml-based projects\u001b[0m\u001b[31m\n",
            "\u001b[0mNote: you may need to restart the kernel to use updated packages.\n"
          ]
        }
      ],
      "source": [
        "%pip install dataprep"
      ]
    },
    {
      "cell_type": "code",
      "execution_count": 7,
      "metadata": {
        "id": "cFALALKzYt2U"
      },
      "outputs": [
        {
          "name": "stdout",
          "output_type": "stream",
          "text": [
            "<class 'pandas.core.frame.DataFrame'>\n",
            "RangeIndex: 4424 entries, 0 to 4423\n",
            "Data columns (total 37 columns):\n",
            " #   Column                                          Non-Null Count  Dtype  \n",
            "---  ------                                          --------------  -----  \n",
            " 0   Marital status                                  4424 non-null   int64  \n",
            " 1   Application mode                                4424 non-null   int64  \n",
            " 2   Application order                               4424 non-null   int64  \n",
            " 3   Course                                          4424 non-null   int64  \n",
            " 4   Daytime/evening attendance\t                     4424 non-null   int64  \n",
            " 5   Previous qualification                          4424 non-null   int64  \n",
            " 6   Previous qualification (grade)                  4424 non-null   float64\n",
            " 7   Nacionality                                     4424 non-null   int64  \n",
            " 8   Mother's qualification                          4424 non-null   int64  \n",
            " 9   Father's qualification                          4424 non-null   int64  \n",
            " 10  Mother's occupation                             4424 non-null   int64  \n",
            " 11  Father's occupation                             4424 non-null   int64  \n",
            " 12  Admission grade                                 4424 non-null   float64\n",
            " 13  Displaced                                       4424 non-null   int64  \n",
            " 14  Educational special needs                       4424 non-null   int64  \n",
            " 15  Debtor                                          4424 non-null   int64  \n",
            " 16  Tuition fees up to date                         4424 non-null   int64  \n",
            " 17  Gender                                          4424 non-null   int64  \n",
            " 18  Scholarship holder                              4424 non-null   int64  \n",
            " 19  Age at enrollment                               4424 non-null   int64  \n",
            " 20  International                                   4424 non-null   int64  \n",
            " 21  Curricular units 1st sem (credited)             4424 non-null   int64  \n",
            " 22  Curricular units 1st sem (enrolled)             4424 non-null   int64  \n",
            " 23  Curricular units 1st sem (evaluations)          4424 non-null   int64  \n",
            " 24  Curricular units 1st sem (approved)             4424 non-null   int64  \n",
            " 25  Curricular units 1st sem (grade)                4424 non-null   float64\n",
            " 26  Curricular units 1st sem (without evaluations)  4424 non-null   int64  \n",
            " 27  Curricular units 2nd sem (credited)             4424 non-null   int64  \n",
            " 28  Curricular units 2nd sem (enrolled)             4424 non-null   int64  \n",
            " 29  Curricular units 2nd sem (evaluations)          4424 non-null   int64  \n",
            " 30  Curricular units 2nd sem (approved)             4424 non-null   int64  \n",
            " 31  Curricular units 2nd sem (grade)                4424 non-null   float64\n",
            " 32  Curricular units 2nd sem (without evaluations)  4424 non-null   int64  \n",
            " 33  Unemployment rate                               4424 non-null   float64\n",
            " 34  Inflation rate                                  4424 non-null   float64\n",
            " 35  GDP                                             4424 non-null   float64\n",
            " 36  Target                                          4424 non-null   object \n",
            "dtypes: float64(7), int64(29), object(1)\n",
            "memory usage: 1.2+ MB\n"
          ]
        }
      ],
      "source": [
        "df.info()"
      ]
    },
    {
      "cell_type": "code",
      "execution_count": 8,
      "metadata": {
        "colab": {
          "base_uri": "https://localhost:8080/",
          "height": 1000
        },
        "id": "2x9p2kfZr3qY",
        "outputId": "7117f8f6-9f6a-4f1f-a2b4-90718e1df8e5"
      },
      "outputs": [
        {
          "ename": "ModuleNotFoundError",
          "evalue": "No module named 'dataprep'",
          "output_type": "error",
          "traceback": [
            "\u001b[0;31m---------------------------------------------------------------------------\u001b[0m",
            "\u001b[0;31mModuleNotFoundError\u001b[0m                       Traceback (most recent call last)",
            "Cell \u001b[0;32mIn[8], line 1\u001b[0m\n\u001b[0;32m----> 1\u001b[0m \u001b[39mfrom\u001b[39;00m \u001b[39mdataprep\u001b[39;00m\u001b[39m.\u001b[39;00m\u001b[39meda\u001b[39;00m \u001b[39mimport\u001b[39;00m create_report\n\u001b[1;32m      2\u001b[0m create_report(df)\n",
            "\u001b[0;31mModuleNotFoundError\u001b[0m: No module named 'dataprep'"
          ]
        }
      ],
      "source": [
        "from dataprep.eda import create_report\n",
        "create_report(df)\n"
      ]
    },
    {
      "cell_type": "code",
      "execution_count": 18,
      "metadata": {
        "colab": {
          "base_uri": "https://localhost:8080/"
        },
        "id": "QkxKg_K7Y-1k",
        "outputId": "f6838349-d925-4e28-fa20-7549cd9af206"
      },
      "outputs": [
        {
          "data": {
            "text/plain": [
              "Graduate    2209\n",
              "Dropout     1421\n",
              "Enrolled     794\n",
              "Name: Target, dtype: int64"
            ]
          },
          "execution_count": 18,
          "metadata": {},
          "output_type": "execute_result"
        }
      ],
      "source": [
        "df[\"Target\"].value_counts()"
      ]
    },
    {
      "cell_type": "code",
      "execution_count": null,
      "metadata": {
        "id": "jiztClFDGXDI"
      },
      "outputs": [],
      "source": [
        "print(df[\"Target\"].value_counts())\n",
        "df_com_enrolled = df\n",
        "for indice, linha in df.iterrows():\n",
        "  if linha[\"Target\"] == \"Enrolled\":\n",
        "    df = df.drop(indice)\n",
        "\n",
        "df[\"Target\"].value_counts()\n"
      ]
    },
    {
      "cell_type": "code",
      "execution_count": 141,
      "metadata": {
        "colab": {
          "base_uri": "https://localhost:8080/"
        },
        "id": "lDrfJCs9Gzxx",
        "outputId": "c6adaa87-55f0-4363-d302-a69fc4ab64b8"
      },
      "outputs": [
        {
          "data": {
            "text/plain": [
              "list"
            ]
          },
          "execution_count": 141,
          "metadata": {},
          "output_type": "execute_result"
        }
      ],
      "source": [
        "labels =[\"dropout\",\"Graduete\"]\n"
      ]
    },
    {
      "cell_type": "code",
      "execution_count": null,
      "metadata": {
        "id": "bGi_VrGTCsxN"
      },
      "outputs": [],
      "source": [
        "df.head().T"
      ]
    },
    {
      "cell_type": "code",
      "execution_count": 130,
      "metadata": {
        "id": "4TkIbsHBbrf5"
      },
      "outputs": [],
      "source": [
        "from bokeh.settings import convert_validation\n",
        "from sklearn.preprocessing import LabelEncoder, MinMaxScaler\n",
        "normalizador = MinMaxScaler()\n",
        "conversor = LabelEncoder()\n",
        "\n",
        "x = df[['Marital status', 'Application mode', 'Application order', 'Course',\n",
        "       'Daytime/evening attendance\\t', 'Previous qualification',\n",
        "       'Previous qualification (grade)', 'Nacionality',\n",
        "       \"Mother's qualification\", \"Father's qualification\",\n",
        "       \"Mother's occupation\", \"Father's occupation\", 'Admission grade',\n",
        "       'Displaced', 'Educational special needs', 'Debtor',\n",
        "       'Tuition fees up to date', 'Gender', 'Scholarship holder',\n",
        "       'Age at enrollment', 'International',\n",
        "       'Curricular units 1st sem (credited)',\n",
        "       'Curricular units 1st sem (enrolled)',\n",
        "       'Curricular units 1st sem (evaluations)',\n",
        "       'Curricular units 1st sem (approved)',\n",
        "       'Curricular units 1st sem (grade)',\n",
        "       'Curricular units 1st sem (without evaluations)',\n",
        "       'Curricular units 2nd sem (credited)',\n",
        "       'Curricular units 2nd sem (enrolled)',\n",
        "       'Curricular units 2nd sem (evaluations)',\n",
        "       'Curricular units 2nd sem (approved)',\n",
        "       'Curricular units 2nd sem (grade)',\n",
        "       'Curricular units 2nd sem (without evaluations)', 'Unemployment rate',\n",
        "       'Inflation rate', 'GDP']]\n",
        "y = df[\"Target\"]\n",
        "\n",
        "normalizada = normalizador.fit_transform(x)\n",
        "normalizada= pd.DataFrame(data = normalizada, columns = x.columns)\n",
        "\n",
        "df[\"Target\"] = conversor.fit_transform(df[\"Target\"])\n",
        "convertida = df[\"Target\"]\n",
        "\n"
      ]
    },
    {
      "cell_type": "code",
      "execution_count": 103,
      "metadata": {
        "id": "VWNcmNxegKjV"
      },
      "outputs": [],
      "source": [
        "from sklearn.model_selection import train_test_split\n",
        "x_trein, x_test,y_trein, y_test = train_test_split(normalizada,convertida,test_size=0.3,random_state=42)"
      ]
    },
    {
      "cell_type": "code",
      "execution_count": 106,
      "metadata": {
        "colab": {
          "base_uri": "https://localhost:8080/",
          "height": 75
        },
        "id": "FeaGmmLihd-j",
        "outputId": "63b098ad-b015-4597-a5c0-29890d38b967"
      },
      "outputs": [
        {
          "data": {
            "text/html": [
              "<style>#sk-container-id-1 {color: black;background-color: white;}#sk-container-id-1 pre{padding: 0;}#sk-container-id-1 div.sk-toggleable {background-color: white;}#sk-container-id-1 label.sk-toggleable__label {cursor: pointer;display: block;width: 100%;margin-bottom: 0;padding: 0.3em;box-sizing: border-box;text-align: center;}#sk-container-id-1 label.sk-toggleable__label-arrow:before {content: \"▸\";float: left;margin-right: 0.25em;color: #696969;}#sk-container-id-1 label.sk-toggleable__label-arrow:hover:before {color: black;}#sk-container-id-1 div.sk-estimator:hover label.sk-toggleable__label-arrow:before {color: black;}#sk-container-id-1 div.sk-toggleable__content {max-height: 0;max-width: 0;overflow: hidden;text-align: left;background-color: #f0f8ff;}#sk-container-id-1 div.sk-toggleable__content pre {margin: 0.2em;color: black;border-radius: 0.25em;background-color: #f0f8ff;}#sk-container-id-1 input.sk-toggleable__control:checked~div.sk-toggleable__content {max-height: 200px;max-width: 100%;overflow: auto;}#sk-container-id-1 input.sk-toggleable__control:checked~label.sk-toggleable__label-arrow:before {content: \"▾\";}#sk-container-id-1 div.sk-estimator input.sk-toggleable__control:checked~label.sk-toggleable__label {background-color: #d4ebff;}#sk-container-id-1 div.sk-label input.sk-toggleable__control:checked~label.sk-toggleable__label {background-color: #d4ebff;}#sk-container-id-1 input.sk-hidden--visually {border: 0;clip: rect(1px 1px 1px 1px);clip: rect(1px, 1px, 1px, 1px);height: 1px;margin: -1px;overflow: hidden;padding: 0;position: absolute;width: 1px;}#sk-container-id-1 div.sk-estimator {font-family: monospace;background-color: #f0f8ff;border: 1px dotted black;border-radius: 0.25em;box-sizing: border-box;margin-bottom: 0.5em;}#sk-container-id-1 div.sk-estimator:hover {background-color: #d4ebff;}#sk-container-id-1 div.sk-parallel-item::after {content: \"\";width: 100%;border-bottom: 1px solid gray;flex-grow: 1;}#sk-container-id-1 div.sk-label:hover label.sk-toggleable__label {background-color: #d4ebff;}#sk-container-id-1 div.sk-serial::before {content: \"\";position: absolute;border-left: 1px solid gray;box-sizing: border-box;top: 0;bottom: 0;left: 50%;z-index: 0;}#sk-container-id-1 div.sk-serial {display: flex;flex-direction: column;align-items: center;background-color: white;padding-right: 0.2em;padding-left: 0.2em;position: relative;}#sk-container-id-1 div.sk-item {position: relative;z-index: 1;}#sk-container-id-1 div.sk-parallel {display: flex;align-items: stretch;justify-content: center;background-color: white;position: relative;}#sk-container-id-1 div.sk-item::before, #sk-container-id-1 div.sk-parallel-item::before {content: \"\";position: absolute;border-left: 1px solid gray;box-sizing: border-box;top: 0;bottom: 0;left: 50%;z-index: -1;}#sk-container-id-1 div.sk-parallel-item {display: flex;flex-direction: column;z-index: 1;position: relative;background-color: white;}#sk-container-id-1 div.sk-parallel-item:first-child::after {align-self: flex-end;width: 50%;}#sk-container-id-1 div.sk-parallel-item:last-child::after {align-self: flex-start;width: 50%;}#sk-container-id-1 div.sk-parallel-item:only-child::after {width: 0;}#sk-container-id-1 div.sk-dashed-wrapped {border: 1px dashed gray;margin: 0 0.4em 0.5em 0.4em;box-sizing: border-box;padding-bottom: 0.4em;background-color: white;}#sk-container-id-1 div.sk-label label {font-family: monospace;font-weight: bold;display: inline-block;line-height: 1.2em;}#sk-container-id-1 div.sk-label-container {text-align: center;}#sk-container-id-1 div.sk-container {/* jupyter's `normalize.less` sets `[hidden] { display: none; }` but bootstrap.min.css set `[hidden] { display: none !important; }` so we also need the `!important` here to be able to override the default hidden behavior on the sphinx rendered scikit-learn.org. See: https://github.com/scikit-learn/scikit-learn/issues/21755 */display: inline-block !important;position: relative;}#sk-container-id-1 div.sk-text-repr-fallback {display: none;}</style><div id=\"sk-container-id-1\" class=\"sk-top-container\"><div class=\"sk-text-repr-fallback\"><pre>GaussianNB()</pre><b>In a Jupyter environment, please rerun this cell to show the HTML representation or trust the notebook. <br />On GitHub, the HTML representation is unable to render, please try loading this page with nbviewer.org.</b></div><div class=\"sk-container\" hidden><div class=\"sk-item\"><div class=\"sk-estimator sk-toggleable\"><input class=\"sk-toggleable__control sk-hidden--visually\" id=\"sk-estimator-id-1\" type=\"checkbox\" checked><label for=\"sk-estimator-id-1\" class=\"sk-toggleable__label sk-toggleable__label-arrow\">GaussianNB</label><div class=\"sk-toggleable__content\"><pre>GaussianNB()</pre></div></div></div></div></div>"
            ],
            "text/plain": [
              "GaussianNB()"
            ]
          },
          "execution_count": 106,
          "metadata": {},
          "output_type": "execute_result"
        }
      ],
      "source": [
        "from sklearn.naive_bayes import GaussianNB\n",
        "nb = GaussianNB()\n",
        "nb.fit(x_trein,y_trein)"
      ]
    },
    {
      "cell_type": "code",
      "execution_count": 109,
      "metadata": {
        "colab": {
          "base_uri": "https://localhost:8080/"
        },
        "id": "xFXayn5Hh6-k",
        "outputId": "b978b80e-a9b4-422d-f4c6-09c7297e151e"
      },
      "outputs": [
        {
          "name": "stdout",
          "output_type": "stream",
          "text": [
            "naive bayes score:  0.8475665748393021\n"
          ]
        }
      ],
      "source": [
        "print(\"naive bayes score: \",nb.score(x_test,y_test))"
      ]
    },
    {
      "cell_type": "code",
      "execution_count": 147,
      "metadata": {
        "colab": {
          "base_uri": "https://localhost:8080/",
          "height": 632
        },
        "id": "5Ttz9G6W7b-J",
        "outputId": "cffc9ff0-6b1b-4031-8608-35a451cf0204"
      },
      "outputs": [
        {
          "name": "stdout",
          "output_type": "stream",
          "text": [
            "              precision    recall  f1-score   support\n",
            "\n",
            "           0       0.82      0.75      0.78      1007\n",
            "           1       0.84      0.90      0.87      1534\n",
            "\n",
            "    accuracy                           0.84      2541\n",
            "   macro avg       0.83      0.82      0.83      2541\n",
            "weighted avg       0.84      0.84      0.84      2541\n",
            "\n",
            "A acurácia é  0.8370720188902007\n"
          ]
        },
        {
          "data": {
            "image/png": "[encoded data removed]",
            "text/plain": [
              "<Figure size 640x480 with 1 Axes>"
            ]
          },
          "metadata": {},
          "output_type": "display_data"
        }
      ],
      "source": [
        "train_est_y = nb.predict(x_trein)\n",
        "\n",
        "mat = confusion_matrix(y_trein, train_est_y)\n",
        "sns.heatmap(mat.T, square=True, annot=True, fmt='d', cbar=False, xticklabels=labels, yticklabels=labels)\n",
        "plt.xlabel('Real')\n",
        "plt.ylabel('Estimado');\n",
        "\n",
        "print(classification_report(y_trein, train_est_y)) # mostra relatório\n",
        "print('A acurácia é ',accuracy_score(train_est_y, y_trein)) # exibe acurácia\n",
        "\n"
      ]
    },
    {
      "cell_type": "code",
      "execution_count": 146,
      "metadata": {
        "colab": {
          "base_uri": "https://localhost:8080/",
          "height": 632
        },
        "id": "OqK96dAUI1_1",
        "outputId": "2510791d-3601-4664-94ac-0329545e4574"
      },
      "outputs": [
        {
          "name": "stdout",
          "output_type": "stream",
          "text": [
            "              precision    recall  f1-score   support\n",
            "\n",
            "           0       0.84      0.73      0.79       414\n",
            "           1       0.85      0.92      0.88       675\n",
            "\n",
            "    accuracy                           0.85      1089\n",
            "   macro avg       0.85      0.83      0.83      1089\n",
            "weighted avg       0.85      0.85      0.85      1089\n",
            "\n",
            "A acurácia é  0.8475665748393021\n"
          ]
        },
        {
          "data": {
            "image/png": "[encoded data removed]",
            "text/plain": [
              "<Figure size 640x480 with 1 Axes>"
            ]
          },
          "metadata": {},
          "output_type": "display_data"
        }
      ],
      "source": [
        "test_est_y = nb.predict(x_test)\n",
        "\n",
        "mat = confusion_matrix(y_test, test_est_y)\n",
        "sns.heatmap(mat.T, square=True, annot=True, fmt='d', cbar=False, xticklabels=labels, yticklabels=labels)\n",
        "plt.xlabel('Real')\n",
        "plt.ylabel('Estimado');\n",
        "\n",
        "print(classification_report(y_test, test_est_y)) # mostra relatório\n",
        "print('A acurácia é ',accuracy_score(test_est_y, y_test)) # exibe acurácia"
      ]
    }
  ],
  "metadata": {
    "colab": {
      "provenance": []
    },
    "kernelspec": {
      "display_name": "Python 3",
      "name": "python3"
    },
    "language_info": {
      "codemirror_mode": {
        "name": "ipython",
        "version": 3
      },
      "file_extension": ".py",
      "mimetype": "text/x-python",
      "name": "python",
      "nbconvert_exporter": "python",
      "pygments_lexer": "ipython3",
      "version": "3.11.5"
    }
  },
  "nbformat": 4,
  "nbformat_minor": 0
}
